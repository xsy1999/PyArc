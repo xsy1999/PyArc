{
 "cells": [
  {
   "cell_type": "markdown",
   "id": "6e4cf0b9",
   "metadata": {},
   "source": [
    "# PyArc Tutorial\n",
    "\n",
    "This notebook serves as a tutorial for the use of the PyArc code to compute the absorption and radiative coefficients for a given semiconductor material. In this tutorial, we will go through the whole process of calculating the absorption and radiative coefficients of GaAs.\n"
   ]
  },
  {
   "cell_type": "markdown",
   "id": "d3e69979",
   "metadata": {},
   "source": [
    "## 0. Calculating the dipole transition matrix elements\n",
    "\n",
    "Before the use of our code, we have to prepare the dipole transition matrix elements file for GaAs with a coarse k-point grid for sampling the Brillouin zone. Here we choose a $10\\times10\\times10$ k-point grid as the KPOINTS file shows in the 'input_file' directory. Other concrete parameters involving VASP\n",
    "calculation can also be found in the same dictory. After the first-principles calculation, a 'Transmatrix' file for the momentum matrix elements will occur in the calculation directory."
   ]
  },
  {
   "cell_type": "markdown",
   "id": "a5cd5d45",
   "metadata": {},
   "source": [
    "## 1. Interpolating the coarse k grid to a dense one \n",
    "\n",
    "After the calculation of eigenvalues and dipole transition matrix elements for the original k-point grid, we need to upsample the k-point mesh for accurate evaluation of the integral over the whole Brillouin zone. The interpolation methods include linear, cubic, and Wannier schemes. Here in this example we show the linear interpolation method for the transmatrix value and Wannier interpolation for the eigenvalues(can be obtained by VASP in conjunction with Wannier90). Generally, the linear interpolation method is accurate enough for transmatrix interpolation while the eigenvalues will significantly influence the final results. Thus, it is a better choice to use Wannier interpolation for eigenvalues. Linear or cubic interpolation schemes for the eigenvalues are useful when the required accuracy for the final absorption or radiative coefficients is not very high."
   ]
  },
  {
   "cell_type": "code",
   "execution_count": 9,
   "id": "4da8db34",
   "metadata": {},
   "outputs": [
    {
     "name": "stderr",
     "output_type": "stream",
     "text": [
      "Reoganizing: 100%|█████████████████████████████████████████████████████████| 432000/432000 [00:03<00:00, 138528.86it/s]\n",
      "Bands Combination:: 100%|██████████████████████████████████████████████████████████████| 25/25 [16:24<00:00, 39.40s/it]\n",
      "kpoints file writing: 100%|██████████████████████████████████████████████| 1000000/1000000 [00:03<00:00, 312246.00it/s]\n"
     ]
    },
    {
     "name": "stdout",
     "output_type": "stream",
     "text": [
      "kpoints for interpolating are generated, please use eigenvalue interpolators to generate fine eigenvalue mesh\n"
     ]
    },
    {
     "name": "stderr",
     "output_type": "stream",
     "text": [
      "Interpolated Eigenvalues file writing by default method: 100%|█████████████| 1000000/1000000 [12:30<00:00, 1333.29it/s]\n"
     ]
    }
   ],
   "source": [
    "import numpy as np\n",
    "from transmatrix_interp.Transmatrix import Transmatrix\n",
    "import argparse\n",
    "\n",
    "VB = np.array([32, 33, 34, 35, 36]) #VB bands involving calculation\n",
    "CB = np.array([37, 38, 39, 40, 41]) #CB bands involving calculation\n",
    "root = './test_files/' # work path\n",
    "mag = [10, 10, 10] #magnification factor, three values for three directions\n",
    "method = ['linear', 'linear'] #default interpolation methods for eigenvalues and dipole transition matrix elements. The code will preferentially use interpolated data files offered by users.\n",
    "\n",
    "interp = Transmatrix(VB, CB, root, method) #reorganize the data\n",
    "interp.write_to_file(mag[0], mag[1], mag[2]) #output the results files"
   ]
  },
  {
   "cell_type": "markdown",
   "id": "4cce7b44",
   "metadata": {},
   "source": [
    "After interpolation, the interpolated files \"Eigen_geninterp\" and \"matrix_fine\"will be generated in work path"
   ]
  },
  {
   "cell_type": "markdown",
   "id": "22058a17",
   "metadata": {},
   "source": []
  },
  {
   "cell_type": "markdown",
   "id": "19bb5333",
   "metadata": {},
   "source": [
    "## 2. Calculating the absorption and radiative coefficients\n",
    "\n",
    "After preparing the dense k-mesh eigenvalues and transmatrix, our code could calculate the absorption and radiative coefficients according to users' needs. Some parameters like primitive cell volume or temperature should be offered."
   ]
  },
  {
   "cell_type": "code",
   "execution_count": 10,
   "id": "32174645",
   "metadata": {},
   "outputs": [
    {
     "name": "stderr",
     "output_type": "stream",
     "text": [
      "Erange: 100%|████████████████████████████████████████████████████████████████████████| 301/301 [31:15<00:00,  6.23s/it]\n",
      "t:   0%|                                                                                         | 0/3 [00:00<?, ?it/s]C:\\Users\\26930\\PycharmProjects\\PyArc-master\\rate\\rate_calculation.py:307: RuntimeWarning: overflow encountered in exp\n",
      "  occ1 = 1. / (1 + np.exp((-efermi1 + eig) / kT)) * kw\n",
      "C:\\Users\\26930\\PycharmProjects\\PyArc-master\\rate\\rate_calculation.py:325: RuntimeWarning: overflow encountered in exp\n",
      "  occ = 1. / (1 + np.exp((-efermi + eig) / kT)) * kw\n",
      "C:\\Users\\26930\\PycharmProjects\\PyArc-master\\rate\\rate_calculation.py:355: RuntimeWarning: overflow encountered in exp\n",
      "  occ2 = 1. / (1 + np.exp((efermi2 - eig) / kT)) * kw\n",
      "C:\\Users\\26930\\PycharmProjects\\PyArc-master\\rate\\rate_calculation.py:371: RuntimeWarning: overflow encountered in exp\n",
      "  occ = 1. / (1 + np.exp((efermi - eig) / kT)) * kw\n",
      "t: 100%|████████████████████████████████████████████████████████████████████████████████| 3/3 [10:57<00:00, 219.00s/it]\n"
     ]
    },
    {
     "data": {
      "text/plain": [
       "array([[9.07023706e-11, 8.99195840e-11, 8.41428404e-11, 6.02227760e-11,\n",
       "        2.57443234e-11],\n",
       "       [4.02119203e-11, 4.01090324e-11, 3.91409600e-11, 3.28350244e-11,\n",
       "        1.82742614e-11],\n",
       "       [2.45679691e-11, 2.45344994e-11, 2.42101515e-11, 2.17198824e-11,\n",
       "        1.39189825e-11]])"
      ]
     },
     "execution_count": 10,
     "metadata": {},
     "output_type": "execute_result"
    }
   ],
   "source": [
    "import numpy as np\n",
    "from rate.rate_calculation import rate_cal\n",
    "\n",
    "mu = 3.9476 # refractive index for GaAs\n",
    "Vcell = 183.0 # primitive cell volume\n",
    "soc = False #whether soc, default is False\n",
    "name =  'GaAs' #materials name\n",
    "Erange = [1, 3, 301] #energy range for evaluating the absorption coefficients\n",
    "start_band = 20 #started bands in wannier interpolation in vasp settings \n",
    "sigma = 0.024 # the sigma coefficients for the Gaussian function, default is 0.024\n",
    "root = './test_files/' # work path to store output file\n",
    "Density = np.array([1E15, 1E16, 1E17, 1E18, 1E19]) # carrier density\n",
    "Trange = np.array([100, 200, 300]) # Teperature range\n",
    "\n",
    "Rate = rate_cal(name, mu, Vcell, soc, root, start_band) #preparing and reorganizing data \n",
    "\n",
    "Rate.absorption(Erange[0], Erange[1], Erange[2], sigma) #calculating absorption coefficients\n",
    "\n",
    "Rate.get_Radcoeffi_results(Trange, Density) #calculating radiative coefficients"
   ]
  },
  {
   "cell_type": "markdown",
   "id": "39a89f9c",
   "metadata": {},
   "source": [
    "## 3. Results and carrier distribution visualization\n",
    "\n",
    "After finishing all those calculations, we can vasulize the calculation results (including absorption and radiative coefficients). Also, we can obtain the carrier distribution graph to reveal the microscopic mechanism beneath different radiative performance for those semiconductors."
   ]
  },
  {
   "cell_type": "code",
   "execution_count": null,
   "id": "e4a907fb",
   "metadata": {},
   "outputs": [
    {
     "name": "stdout",
     "output_type": "stream",
     "text": [
      "[100 100 100]\n"
     ]
    },
    {
     "name": "stderr",
     "output_type": "stream",
     "text": [
      "C:\\Users\\26930\\PycharmProjects\\PyArc-master\\rate\\figure_plot.py:280: RuntimeWarning: overflow encountered in exp\n",
      "  occ1 = 1. / (1 + np.exp((-efermi1 + eig) / kT))\n"
     ]
    }
   ],
   "source": [
    "from rate.figure_plot import figure_plot\n",
    "import argparse\n",
    "\n",
    "Name = 'GaAs' #materials name \n",
    "path = './test_files/' #work path\n",
    "Vcell = 180 #primitive cell volume\n",
    "T = [300] #temperature for carrier distribution calculation\n",
    "D = [1E19] # carrier density for carrier distribution\n",
    "VB = [35, 36] #valence bands for carrier distribution graph\n",
    "CB = [40, 41] #conduction bands for carrier distribution graph\n",
    "soc = False #wheter SOC\n",
    "direction = 'z' #slice direction for carrier distribution graph\n",
    "kpoints = [0.0] #k points for slice\n",
    "Eg = 1.42 # band gap\n",
    "start_band = 20  #started bands in wannier interpolation in vasp settings\n",
    "\n",
    "Figure = figure_plot(Name, path)\n",
    "    \n",
    "Figure.adsorption_coeff_plot(Eg=Eg) # the absorption coefficients\n",
    "\n",
    "Figure.radiative_coeff_plot(1E15, 1E19) # the radiative coefficients\n",
    "\n",
    "Figure.plot_k_slice(direction, kpoints, Vcell, T, D, VB, CB, soc, start_band) #the carrier distribution"
   ]
  },
  {
   "cell_type": "markdown",
   "id": "8d02f908",
   "metadata": {},
   "source": [
    "All the final results file including \"Bcoeff-GaAs_trail.png\" , \"absorption-GaAs.pdf\" and \"GaAs_z=0.0-CB37-1e+19-300K.png\" can be found under the work directory.\n",
    "Similarly, those coefficients under other conditions can be calculated following the same way."
   ]
  }
 ],
 "metadata": {
  "kernelspec": {
   "display_name": "Python 3 (ipykernel)",
   "language": "python",
   "name": "python3"
  },
  "language_info": {
   "codemirror_mode": {
    "name": "ipython",
    "version": 3
   },
   "file_extension": ".py",
   "mimetype": "text/x-python",
   "name": "python",
   "nbconvert_exporter": "python",
   "pygments_lexer": "ipython3",
   "version": "3.8.16"
  }
 },
 "nbformat": 4,
 "nbformat_minor": 5
}
